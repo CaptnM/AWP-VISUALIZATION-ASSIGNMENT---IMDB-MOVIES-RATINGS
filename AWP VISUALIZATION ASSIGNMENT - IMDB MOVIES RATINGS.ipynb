{
 "cells": [
  {
   "cell_type": "code",
   "execution_count": 1,
   "id": "bda5bc3e",
   "metadata": {},
   "outputs": [],
   "source": [
    "#!pip install matplotlib"
   ]
  },
  {
   "cell_type": "code",
   "execution_count": 2,
   "id": "cb15d9d9",
   "metadata": {},
   "outputs": [],
   "source": [
    "#matplotlib package ke andar .pyplot file hai\n",
    "import matplotlib.pyplot as plt # for gaphs\n",
    "import seaborn as sb # for graphs\n",
    "import pandas as pd  # data manipulation\n",
    "import numpy as np   # for mathematics\n",
    "import warnings      # to ignore any warnings\n",
    "warnings.filterwarnings('ignore')\n",
    "from scipy.stats import skew # calling library for scientific python statistical calculation\n",
    "from sklearn .preprocessing import MinMaxScaler\n",
    "from sklearn .preprocessing import StandardScaler\n",
    "# Apply Label Encoder for object type column Gender and Remarks and converts into Numeric type..\n",
    "# data machine ko dene se pehle data ko process karna hota hai\n",
    "from sklearn.preprocessing import LabelEncoder\n",
    "# LabelEncoder is inbuilt class"
   ]
  },
  {
   "cell_type": "code",
   "execution_count": 3,
   "id": "f2dec12d",
   "metadata": {},
   "outputs": [
    {
     "data": {
      "text/html": [
       "<div>\n",
       "<style scoped>\n",
       "    .dataframe tbody tr th:only-of-type {\n",
       "        vertical-align: middle;\n",
       "    }\n",
       "\n",
       "    .dataframe tbody tr th {\n",
       "        vertical-align: top;\n",
       "    }\n",
       "\n",
       "    .dataframe thead th {\n",
       "        text-align: right;\n",
       "    }\n",
       "</style>\n",
       "<table border=\"1\" class=\"dataframe\">\n",
       "  <thead>\n",
       "    <tr style=\"text-align: right;\">\n",
       "      <th></th>\n",
       "      <th>Rank</th>\n",
       "      <th>Title</th>\n",
       "      <th>Genre</th>\n",
       "      <th>Description</th>\n",
       "      <th>Director</th>\n",
       "      <th>Actors</th>\n",
       "      <th>Year</th>\n",
       "      <th>Runtime (Minutes)</th>\n",
       "      <th>Rating</th>\n",
       "      <th>Votes</th>\n",
       "      <th>Revenue (Millions)</th>\n",
       "      <th>Metascore</th>\n",
       "    </tr>\n",
       "  </thead>\n",
       "  <tbody>\n",
       "    <tr>\n",
       "      <th>0</th>\n",
       "      <td>1</td>\n",
       "      <td>Guardians of the Galaxy</td>\n",
       "      <td>Action,Adventure,Sci-Fi</td>\n",
       "      <td>A group of intergalactic criminals are forced ...</td>\n",
       "      <td>James Gunn</td>\n",
       "      <td>Chris Pratt, Vin Diesel, Bradley Cooper, Zoe S...</td>\n",
       "      <td>2014</td>\n",
       "      <td>121</td>\n",
       "      <td>8.1</td>\n",
       "      <td>757074</td>\n",
       "      <td>333.13</td>\n",
       "      <td>76.0</td>\n",
       "    </tr>\n",
       "    <tr>\n",
       "      <th>1</th>\n",
       "      <td>2</td>\n",
       "      <td>Prometheus</td>\n",
       "      <td>Adventure,Mystery,Sci-Fi</td>\n",
       "      <td>Following clues to the origin of mankind, a te...</td>\n",
       "      <td>Ridley Scott</td>\n",
       "      <td>Noomi Rapace, Logan Marshall-Green, Michael Fa...</td>\n",
       "      <td>2012</td>\n",
       "      <td>124</td>\n",
       "      <td>7.0</td>\n",
       "      <td>485820</td>\n",
       "      <td>126.46</td>\n",
       "      <td>65.0</td>\n",
       "    </tr>\n",
       "    <tr>\n",
       "      <th>2</th>\n",
       "      <td>3</td>\n",
       "      <td>Split</td>\n",
       "      <td>Horror,Thriller</td>\n",
       "      <td>Three girls are kidnapped by a man with a diag...</td>\n",
       "      <td>M. Night Shyamalan</td>\n",
       "      <td>James McAvoy, Anya Taylor-Joy, Haley Lu Richar...</td>\n",
       "      <td>2016</td>\n",
       "      <td>117</td>\n",
       "      <td>7.3</td>\n",
       "      <td>157606</td>\n",
       "      <td>138.12</td>\n",
       "      <td>62.0</td>\n",
       "    </tr>\n",
       "    <tr>\n",
       "      <th>3</th>\n",
       "      <td>4</td>\n",
       "      <td>Sing</td>\n",
       "      <td>Animation,Comedy,Family</td>\n",
       "      <td>In a city of humanoid animals, a hustling thea...</td>\n",
       "      <td>Christophe Lourdelet</td>\n",
       "      <td>Matthew McConaughey,Reese Witherspoon, Seth Ma...</td>\n",
       "      <td>2016</td>\n",
       "      <td>108</td>\n",
       "      <td>7.2</td>\n",
       "      <td>60545</td>\n",
       "      <td>270.32</td>\n",
       "      <td>59.0</td>\n",
       "    </tr>\n",
       "    <tr>\n",
       "      <th>4</th>\n",
       "      <td>5</td>\n",
       "      <td>Suicide Squad</td>\n",
       "      <td>Action,Adventure,Fantasy</td>\n",
       "      <td>A secret government agency recruits some of th...</td>\n",
       "      <td>David Ayer</td>\n",
       "      <td>Will Smith, Jared Leto, Margot Robbie, Viola D...</td>\n",
       "      <td>2016</td>\n",
       "      <td>123</td>\n",
       "      <td>6.2</td>\n",
       "      <td>393727</td>\n",
       "      <td>325.02</td>\n",
       "      <td>40.0</td>\n",
       "    </tr>\n",
       "    <tr>\n",
       "      <th>...</th>\n",
       "      <td>...</td>\n",
       "      <td>...</td>\n",
       "      <td>...</td>\n",
       "      <td>...</td>\n",
       "      <td>...</td>\n",
       "      <td>...</td>\n",
       "      <td>...</td>\n",
       "      <td>...</td>\n",
       "      <td>...</td>\n",
       "      <td>...</td>\n",
       "      <td>...</td>\n",
       "      <td>...</td>\n",
       "    </tr>\n",
       "    <tr>\n",
       "      <th>995</th>\n",
       "      <td>996</td>\n",
       "      <td>Secret in Their Eyes</td>\n",
       "      <td>Crime,Drama,Mystery</td>\n",
       "      <td>A tight-knit team of rising investigators, alo...</td>\n",
       "      <td>Billy Ray</td>\n",
       "      <td>Chiwetel Ejiofor, Nicole Kidman, Julia Roberts...</td>\n",
       "      <td>2015</td>\n",
       "      <td>111</td>\n",
       "      <td>6.2</td>\n",
       "      <td>27585</td>\n",
       "      <td>NaN</td>\n",
       "      <td>45.0</td>\n",
       "    </tr>\n",
       "    <tr>\n",
       "      <th>996</th>\n",
       "      <td>997</td>\n",
       "      <td>Hostel: Part II</td>\n",
       "      <td>Horror</td>\n",
       "      <td>Three American college students studying abroa...</td>\n",
       "      <td>Eli Roth</td>\n",
       "      <td>Lauren German, Heather Matarazzo, Bijou Philli...</td>\n",
       "      <td>2007</td>\n",
       "      <td>94</td>\n",
       "      <td>5.5</td>\n",
       "      <td>73152</td>\n",
       "      <td>17.54</td>\n",
       "      <td>46.0</td>\n",
       "    </tr>\n",
       "    <tr>\n",
       "      <th>997</th>\n",
       "      <td>998</td>\n",
       "      <td>Step Up 2: The Streets</td>\n",
       "      <td>Drama,Music,Romance</td>\n",
       "      <td>Romantic sparks occur between two dance studen...</td>\n",
       "      <td>Jon M. Chu</td>\n",
       "      <td>Robert Hoffman, Briana Evigan, Cassie Ventura,...</td>\n",
       "      <td>2008</td>\n",
       "      <td>98</td>\n",
       "      <td>6.2</td>\n",
       "      <td>70699</td>\n",
       "      <td>58.01</td>\n",
       "      <td>50.0</td>\n",
       "    </tr>\n",
       "    <tr>\n",
       "      <th>998</th>\n",
       "      <td>999</td>\n",
       "      <td>Search Party</td>\n",
       "      <td>Adventure,Comedy</td>\n",
       "      <td>A pair of friends embark on a mission to reuni...</td>\n",
       "      <td>Scot Armstrong</td>\n",
       "      <td>Adam Pally, T.J. Miller, Thomas Middleditch,Sh...</td>\n",
       "      <td>2014</td>\n",
       "      <td>93</td>\n",
       "      <td>5.6</td>\n",
       "      <td>4881</td>\n",
       "      <td>NaN</td>\n",
       "      <td>22.0</td>\n",
       "    </tr>\n",
       "    <tr>\n",
       "      <th>999</th>\n",
       "      <td>1000</td>\n",
       "      <td>Nine Lives</td>\n",
       "      <td>Comedy,Family,Fantasy</td>\n",
       "      <td>A stuffy businessman finds himself trapped ins...</td>\n",
       "      <td>Barry Sonnenfeld</td>\n",
       "      <td>Kevin Spacey, Jennifer Garner, Robbie Amell,Ch...</td>\n",
       "      <td>2016</td>\n",
       "      <td>87</td>\n",
       "      <td>5.3</td>\n",
       "      <td>12435</td>\n",
       "      <td>19.64</td>\n",
       "      <td>11.0</td>\n",
       "    </tr>\n",
       "  </tbody>\n",
       "</table>\n",
       "<p>1000 rows × 12 columns</p>\n",
       "</div>"
      ],
      "text/plain": [
       "     Rank                    Title                     Genre  \\\n",
       "0       1  Guardians of the Galaxy   Action,Adventure,Sci-Fi   \n",
       "1       2               Prometheus  Adventure,Mystery,Sci-Fi   \n",
       "2       3                    Split           Horror,Thriller   \n",
       "3       4                     Sing   Animation,Comedy,Family   \n",
       "4       5            Suicide Squad  Action,Adventure,Fantasy   \n",
       "..    ...                      ...                       ...   \n",
       "995   996     Secret in Their Eyes       Crime,Drama,Mystery   \n",
       "996   997          Hostel: Part II                    Horror   \n",
       "997   998   Step Up 2: The Streets       Drama,Music,Romance   \n",
       "998   999             Search Party          Adventure,Comedy   \n",
       "999  1000               Nine Lives     Comedy,Family,Fantasy   \n",
       "\n",
       "                                           Description              Director  \\\n",
       "0    A group of intergalactic criminals are forced ...            James Gunn   \n",
       "1    Following clues to the origin of mankind, a te...          Ridley Scott   \n",
       "2    Three girls are kidnapped by a man with a diag...    M. Night Shyamalan   \n",
       "3    In a city of humanoid animals, a hustling thea...  Christophe Lourdelet   \n",
       "4    A secret government agency recruits some of th...            David Ayer   \n",
       "..                                                 ...                   ...   \n",
       "995  A tight-knit team of rising investigators, alo...             Billy Ray   \n",
       "996  Three American college students studying abroa...              Eli Roth   \n",
       "997  Romantic sparks occur between two dance studen...            Jon M. Chu   \n",
       "998  A pair of friends embark on a mission to reuni...        Scot Armstrong   \n",
       "999  A stuffy businessman finds himself trapped ins...      Barry Sonnenfeld   \n",
       "\n",
       "                                                Actors  Year  \\\n",
       "0    Chris Pratt, Vin Diesel, Bradley Cooper, Zoe S...  2014   \n",
       "1    Noomi Rapace, Logan Marshall-Green, Michael Fa...  2012   \n",
       "2    James McAvoy, Anya Taylor-Joy, Haley Lu Richar...  2016   \n",
       "3    Matthew McConaughey,Reese Witherspoon, Seth Ma...  2016   \n",
       "4    Will Smith, Jared Leto, Margot Robbie, Viola D...  2016   \n",
       "..                                                 ...   ...   \n",
       "995  Chiwetel Ejiofor, Nicole Kidman, Julia Roberts...  2015   \n",
       "996  Lauren German, Heather Matarazzo, Bijou Philli...  2007   \n",
       "997  Robert Hoffman, Briana Evigan, Cassie Ventura,...  2008   \n",
       "998  Adam Pally, T.J. Miller, Thomas Middleditch,Sh...  2014   \n",
       "999  Kevin Spacey, Jennifer Garner, Robbie Amell,Ch...  2016   \n",
       "\n",
       "     Runtime (Minutes)  Rating   Votes  Revenue (Millions)  Metascore  \n",
       "0                  121     8.1  757074              333.13       76.0  \n",
       "1                  124     7.0  485820              126.46       65.0  \n",
       "2                  117     7.3  157606              138.12       62.0  \n",
       "3                  108     7.2   60545              270.32       59.0  \n",
       "4                  123     6.2  393727              325.02       40.0  \n",
       "..                 ...     ...     ...                 ...        ...  \n",
       "995                111     6.2   27585                 NaN       45.0  \n",
       "996                 94     5.5   73152               17.54       46.0  \n",
       "997                 98     6.2   70699               58.01       50.0  \n",
       "998                 93     5.6    4881                 NaN       22.0  \n",
       "999                 87     5.3   12435               19.64       11.0  \n",
       "\n",
       "[1000 rows x 12 columns]"
      ]
     },
     "execution_count": 3,
     "metadata": {},
     "output_type": "execute_result"
    }
   ],
   "source": [
    "df=pd.read_csv('IMDB_Movie_Data.csv')\n",
    "df"
   ]
  },
  {
   "cell_type": "code",
   "execution_count": 4,
   "id": "0d92c3a3",
   "metadata": {},
   "outputs": [
    {
     "data": {
      "text/plain": [
       "(1000, 12)"
      ]
     },
     "execution_count": 4,
     "metadata": {},
     "output_type": "execute_result"
    }
   ],
   "source": [
    "df.shape"
   ]
  },
  {
   "cell_type": "code",
   "execution_count": 5,
   "id": "1a58fafb",
   "metadata": {},
   "outputs": [
    {
     "data": {
      "text/plain": [
       "Rank                    0\n",
       "Title                   0\n",
       "Genre                   0\n",
       "Description             0\n",
       "Director                0\n",
       "Actors                  0\n",
       "Year                    0\n",
       "Runtime (Minutes)       0\n",
       "Rating                  0\n",
       "Votes                   0\n",
       "Revenue (Millions)    128\n",
       "Metascore              64\n",
       "dtype: int64"
      ]
     },
     "execution_count": 5,
     "metadata": {},
     "output_type": "execute_result"
    }
   ],
   "source": [
    "# to check null values\n",
    "df.isnull().sum()"
   ]
  },
  {
   "cell_type": "code",
   "execution_count": 6,
   "id": "b138958e",
   "metadata": {},
   "outputs": [
    {
     "data": {
      "image/png": "[encoded data removed]",
      "text/plain": [
       "<Figure size 1440x720 with 2 Axes>"
      ]
     },
     "metadata": {
      "needs_background": "light"
     },
     "output_type": "display_data"
    }
   ],
   "source": [
    "# to check null values in given dataset in visualisation form\n",
    "plt.figure(figsize=(20,10))\n",
    "sb.heatmap(df.isnull())\n",
    "plt.show()"
   ]
  },
  {
   "cell_type": "code",
   "execution_count": 7,
   "id": "d4be99aa",
   "metadata": {},
   "outputs": [
    {
     "data": {
      "text/plain": [
       "Rank                    int64\n",
       "Title                  object\n",
       "Genre                  object\n",
       "Description            object\n",
       "Director               object\n",
       "Actors                 object\n",
       "Year                    int64\n",
       "Runtime (Minutes)       int64\n",
       "Rating                float64\n",
       "Votes                   int64\n",
       "Revenue (Millions)    float64\n",
       "Metascore             float64\n",
       "dtype: object"
      ]
     },
     "execution_count": 7,
     "metadata": {},
     "output_type": "execute_result"
    }
   ],
   "source": [
    "df.dtypes"
   ]
  },
  {
   "cell_type": "code",
   "execution_count": 8,
   "id": "f570b2c2",
   "metadata": {},
   "outputs": [
    {
     "data": {
      "image/png": "[encoded data removed]",
      "text/plain": [
       "<Figure size 720x720 with 1 Axes>"
      ]
     },
     "metadata": {},
     "output_type": "display_data"
    }
   ],
   "source": [
    "plt.figure(figsize=(10,10))\n",
    "df['Year'].value_counts().plot(kind='pie',colors=['red','green','yellow','skyblue','violet',\n",
    "                                                 'purple','blue','lightgreen','grey','brown',\n",
    "                                                 'goldenrod'],autopct='%d%%')\n",
    "plt.show()"
   ]
  },
  {
   "cell_type": "code",
   "execution_count": 9,
   "id": "b1b33fc9",
   "metadata": {},
   "outputs": [
    {
     "data": {
      "text/plain": [
       "Rank                   0.0\n",
       "Title                  0.0\n",
       "Genre                  0.0\n",
       "Description            0.0\n",
       "Director               0.0\n",
       "Actors                 0.0\n",
       "Year                   0.0\n",
       "Runtime (Minutes)      0.0\n",
       "Rating                 0.0\n",
       "Votes                  0.0\n",
       "Revenue (Millions)    12.8\n",
       "Metascore              6.4\n",
       "dtype: float64"
      ]
     },
     "execution_count": 9,
     "metadata": {},
     "output_type": "execute_result"
    }
   ],
   "source": [
    "# to find the percentage of null values in each column in given dataset\n",
    "\n",
    "df.isnull().sum()/df.shape[0]*100"
   ]
  },
  {
   "cell_type": "code",
   "execution_count": 10,
   "id": "11a6af4e",
   "metadata": {},
   "outputs": [],
   "source": [
    "# so fill null values permanently with MEAN of Revenue (Millions) in Revenue (Millions) columns with fillna()\n",
    "# so first find the MEAN of Revenue (Millions) column\n",
    "M=df['Revenue (Millions)'].mean()\n",
    "df['Revenue (Millions)'].fillna(M,inplace=True)"
   ]
  },
  {
   "cell_type": "code",
   "execution_count": 11,
   "id": "0c6ce7e1",
   "metadata": {},
   "outputs": [],
   "source": [
    "M=df['Metascore'].mean()\n",
    "df['Metascore'].fillna(M,inplace=True)"
   ]
  },
  {
   "cell_type": "code",
   "execution_count": 12,
   "id": "37fe9888",
   "metadata": {
    "scrolled": true
   },
   "outputs": [
    {
     "data": {
      "text/plain": [
       "Rank                  0\n",
       "Title                 0\n",
       "Genre                 0\n",
       "Description           0\n",
       "Director              0\n",
       "Actors                0\n",
       "Year                  0\n",
       "Runtime (Minutes)     0\n",
       "Rating                0\n",
       "Votes                 0\n",
       "Revenue (Millions)    0\n",
       "Metascore             0\n",
       "dtype: int64"
      ]
     },
     "execution_count": 12,
     "metadata": {},
     "output_type": "execute_result"
    }
   ],
   "source": [
    "# to check null values in given dataset\n",
    "\n",
    "df.isnull().sum()"
   ]
  },
  {
   "cell_type": "code",
   "execution_count": 13,
   "id": "fb0a6891",
   "metadata": {},
   "outputs": [
    {
     "data": {
      "image/png": "[encoded data removed]",
      "text/plain": [
       "<Figure size 432x288 with 2 Axes>"
      ]
     },
     "metadata": {
      "needs_background": "light"
     },
     "output_type": "display_data"
    }
   ],
   "source": [
    "# lets check null values by visualization \n",
    "sb.heatmap(df.isnull())\n",
    "\n",
    "plt.show()"
   ]
  },
  {
   "cell_type": "code",
   "execution_count": 14,
   "id": "73adaa5c",
   "metadata": {},
   "outputs": [
    {
     "data": {
      "text/plain": [
       "0"
      ]
     },
     "execution_count": 14,
     "metadata": {},
     "output_type": "execute_result"
    }
   ],
   "source": [
    "# Now step 2. \n",
    "# Check duplicates row\n",
    "df.duplicated().sum()"
   ]
  },
  {
   "cell_type": "code",
   "execution_count": 15,
   "id": "10b386a5",
   "metadata": {},
   "outputs": [
    {
     "data": {
      "image/png": "[encoded data removed]",
      "text/plain": [
       "<Figure size 1440x360 with 1 Axes>"
      ]
     },
     "metadata": {
      "needs_background": "light"
     },
     "output_type": "display_data"
    }
   ],
   "source": [
    "# Check outlier and remove outlier from dataset\n",
    "# Lower whisker <= Value <= Upper whisker : means no outlier\n",
    "# so we use boxplot for checking outlier.\n",
    "plt.figure(figsize=(20,5))\n",
    "sb.boxplot(data=df,x='Rating')\n",
    "plt.show()"
   ]
  },
  {
   "cell_type": "code",
   "execution_count": 16,
   "id": "053bfcb4",
   "metadata": {},
   "outputs": [
    {
     "data": {
      "text/html": [
       "<div>\n",
       "<style scoped>\n",
       "    .dataframe tbody tr th:only-of-type {\n",
       "        vertical-align: middle;\n",
       "    }\n",
       "\n",
       "    .dataframe tbody tr th {\n",
       "        vertical-align: top;\n",
       "    }\n",
       "\n",
       "    .dataframe thead th {\n",
       "        text-align: right;\n",
       "    }\n",
       "</style>\n",
       "<table border=\"1\" class=\"dataframe\">\n",
       "  <thead>\n",
       "    <tr style=\"text-align: right;\">\n",
       "      <th></th>\n",
       "      <th>Rank</th>\n",
       "      <th>Title</th>\n",
       "      <th>Genre</th>\n",
       "      <th>Description</th>\n",
       "      <th>Director</th>\n",
       "      <th>Actors</th>\n",
       "      <th>Year</th>\n",
       "      <th>Runtime (Minutes)</th>\n",
       "      <th>Rating</th>\n",
       "      <th>Votes</th>\n",
       "      <th>Revenue (Millions)</th>\n",
       "      <th>Metascore</th>\n",
       "    </tr>\n",
       "  </thead>\n",
       "  <tbody>\n",
       "    <tr>\n",
       "      <th>42</th>\n",
       "      <td>43</td>\n",
       "      <td>Don't Fuck in the Woods</td>\n",
       "      <td>Horror</td>\n",
       "      <td>A group of friends are going on a camping trip...</td>\n",
       "      <td>Shawn Burkett</td>\n",
       "      <td>Brittany Blanton, Ayse Howard, Roman Jossart,N...</td>\n",
       "      <td>2016</td>\n",
       "      <td>73</td>\n",
       "      <td>2.7</td>\n",
       "      <td>496</td>\n",
       "      <td>82.956376</td>\n",
       "      <td>58.985043</td>\n",
       "    </tr>\n",
       "    <tr>\n",
       "      <th>49</th>\n",
       "      <td>50</td>\n",
       "      <td>The Last Face</td>\n",
       "      <td>Drama</td>\n",
       "      <td>A director (Charlize Theron) of an internation...</td>\n",
       "      <td>Sean Penn</td>\n",
       "      <td>Charlize Theron, Javier Bardem, Adèle Exarchop...</td>\n",
       "      <td>2016</td>\n",
       "      <td>130</td>\n",
       "      <td>3.7</td>\n",
       "      <td>987</td>\n",
       "      <td>82.956376</td>\n",
       "      <td>16.000000</td>\n",
       "    </tr>\n",
       "    <tr>\n",
       "      <th>63</th>\n",
       "      <td>64</td>\n",
       "      <td>Fifty Shades of Grey</td>\n",
       "      <td>Drama,Romance,Thriller</td>\n",
       "      <td>Literature student Anastasia Steele's life cha...</td>\n",
       "      <td>Sam Taylor-Johnson</td>\n",
       "      <td>Dakota Johnson, Jamie Dornan, Jennifer Ehle,El...</td>\n",
       "      <td>2015</td>\n",
       "      <td>125</td>\n",
       "      <td>4.1</td>\n",
       "      <td>244474</td>\n",
       "      <td>166.150000</td>\n",
       "      <td>46.000000</td>\n",
       "    </tr>\n",
       "    <tr>\n",
       "      <th>237</th>\n",
       "      <td>238</td>\n",
       "      <td>The Disappointments Room</td>\n",
       "      <td>Drama,Horror,Thriller</td>\n",
       "      <td>A mother and her young son release unimaginabl...</td>\n",
       "      <td>D.J. Caruso</td>\n",
       "      <td>Kate Beckinsale, Mel Raido, Duncan Joiner, Luc...</td>\n",
       "      <td>2016</td>\n",
       "      <td>85</td>\n",
       "      <td>3.9</td>\n",
       "      <td>4895</td>\n",
       "      <td>2.410000</td>\n",
       "      <td>31.000000</td>\n",
       "    </tr>\n",
       "    <tr>\n",
       "      <th>269</th>\n",
       "      <td>270</td>\n",
       "      <td>Satanic</td>\n",
       "      <td>Horror</td>\n",
       "      <td>Four friends on their way to Coachella stop of...</td>\n",
       "      <td>Jeffrey G. Hunt</td>\n",
       "      <td>Sarah Hyland, Steven Krueger, Justin Chon, Cla...</td>\n",
       "      <td>2016</td>\n",
       "      <td>85</td>\n",
       "      <td>3.7</td>\n",
       "      <td>2384</td>\n",
       "      <td>82.956376</td>\n",
       "      <td>58.985043</td>\n",
       "    </tr>\n",
       "    <tr>\n",
       "      <th>401</th>\n",
       "      <td>402</td>\n",
       "      <td>The Black Room</td>\n",
       "      <td>Horror</td>\n",
       "      <td>PAUL and JENNIFER HEMDALE have just moved into...</td>\n",
       "      <td>Rolfe Kanefsky</td>\n",
       "      <td>Natasha Henstridge, Lukas Hassel, Lin Shaye,Do...</td>\n",
       "      <td>2016</td>\n",
       "      <td>91</td>\n",
       "      <td>3.9</td>\n",
       "      <td>240</td>\n",
       "      <td>82.956376</td>\n",
       "      <td>71.000000</td>\n",
       "    </tr>\n",
       "    <tr>\n",
       "      <th>508</th>\n",
       "      <td>509</td>\n",
       "      <td>Movie 43</td>\n",
       "      <td>Comedy,Romance</td>\n",
       "      <td>A series of interconnected short films follows...</td>\n",
       "      <td>Elizabeth Banks</td>\n",
       "      <td>Emma Stone, Stephen Merchant, Richard Gere, Li...</td>\n",
       "      <td>2013</td>\n",
       "      <td>94</td>\n",
       "      <td>4.3</td>\n",
       "      <td>83625</td>\n",
       "      <td>8.830000</td>\n",
       "      <td>18.000000</td>\n",
       "    </tr>\n",
       "    <tr>\n",
       "      <th>525</th>\n",
       "      <td>526</td>\n",
       "      <td>Birth of the Dragon</td>\n",
       "      <td>Action,Biography,Drama</td>\n",
       "      <td>Young, up-and-coming martial artist, Bruce Lee...</td>\n",
       "      <td>George Nolfi</td>\n",
       "      <td>Billy Magnussen, Terry Chen, Teresa Navarro,Va...</td>\n",
       "      <td>2016</td>\n",
       "      <td>103</td>\n",
       "      <td>3.9</td>\n",
       "      <td>552</td>\n",
       "      <td>93.050000</td>\n",
       "      <td>61.000000</td>\n",
       "    </tr>\n",
       "    <tr>\n",
       "      <th>552</th>\n",
       "      <td>553</td>\n",
       "      <td>Fantastic Four</td>\n",
       "      <td>Action,Adventure,Sci-Fi</td>\n",
       "      <td>Four young outsiders teleport to an alternate ...</td>\n",
       "      <td>Josh Trank</td>\n",
       "      <td>Miles Teller, Kate Mara, Michael B. Jordan, Ja...</td>\n",
       "      <td>2015</td>\n",
       "      <td>100</td>\n",
       "      <td>4.3</td>\n",
       "      <td>121847</td>\n",
       "      <td>56.110000</td>\n",
       "      <td>27.000000</td>\n",
       "    </tr>\n",
       "    <tr>\n",
       "      <th>581</th>\n",
       "      <td>582</td>\n",
       "      <td>The Last Airbender</td>\n",
       "      <td>Action,Adventure,Family</td>\n",
       "      <td>Follows the adventures of Aang, a young succes...</td>\n",
       "      <td>M. Night Shyamalan</td>\n",
       "      <td>Noah Ringer, Nicola Peltz, Jackson Rathbone,De...</td>\n",
       "      <td>2010</td>\n",
       "      <td>103</td>\n",
       "      <td>4.2</td>\n",
       "      <td>125129</td>\n",
       "      <td>82.956376</td>\n",
       "      <td>20.000000</td>\n",
       "    </tr>\n",
       "    <tr>\n",
       "      <th>616</th>\n",
       "      <td>617</td>\n",
       "      <td>2307: Winter's Dream</td>\n",
       "      <td>Sci-Fi</td>\n",
       "      <td>In 2307, a future soldier is sent on a mission...</td>\n",
       "      <td>Joey Curtis</td>\n",
       "      <td>Paul Sidhu, Branden Coles, Arielle Holmes, Kel...</td>\n",
       "      <td>2016</td>\n",
       "      <td>101</td>\n",
       "      <td>4.0</td>\n",
       "      <td>277</td>\n",
       "      <td>20.760000</td>\n",
       "      <td>53.000000</td>\n",
       "    </tr>\n",
       "    <tr>\n",
       "      <th>647</th>\n",
       "      <td>648</td>\n",
       "      <td>Tall Men</td>\n",
       "      <td>Fantasy,Horror,Thriller</td>\n",
       "      <td>A challenged man is stalked by tall phantoms i...</td>\n",
       "      <td>Jonathan Holbrook</td>\n",
       "      <td>Dan Crisafulli, Kay Whitney, Richard Garcia, P...</td>\n",
       "      <td>2016</td>\n",
       "      <td>133</td>\n",
       "      <td>3.2</td>\n",
       "      <td>173</td>\n",
       "      <td>82.956376</td>\n",
       "      <td>57.000000</td>\n",
       "    </tr>\n",
       "    <tr>\n",
       "      <th>800</th>\n",
       "      <td>801</td>\n",
       "      <td>Yoga Hosers</td>\n",
       "      <td>Comedy,Fantasy,Horror</td>\n",
       "      <td>Two teenage yoga enthusiasts team up with a le...</td>\n",
       "      <td>Kevin Smith</td>\n",
       "      <td>Lily-Rose Depp, Harley Quinn Smith, Johnny Dep...</td>\n",
       "      <td>2016</td>\n",
       "      <td>88</td>\n",
       "      <td>4.3</td>\n",
       "      <td>7091</td>\n",
       "      <td>82.956376</td>\n",
       "      <td>23.000000</td>\n",
       "    </tr>\n",
       "    <tr>\n",
       "      <th>829</th>\n",
       "      <td>830</td>\n",
       "      <td>Disaster Movie</td>\n",
       "      <td>Comedy</td>\n",
       "      <td>Over the course of one evening, an unsuspectin...</td>\n",
       "      <td>Jason Friedberg</td>\n",
       "      <td>Carmen Electra, Vanessa Lachey,Nicole Parker, ...</td>\n",
       "      <td>2008</td>\n",
       "      <td>87</td>\n",
       "      <td>1.9</td>\n",
       "      <td>77207</td>\n",
       "      <td>14.170000</td>\n",
       "      <td>15.000000</td>\n",
       "    </tr>\n",
       "    <tr>\n",
       "      <th>838</th>\n",
       "      <td>839</td>\n",
       "      <td>Exposed</td>\n",
       "      <td>Crime,Drama,Mystery</td>\n",
       "      <td>A police detective investigates the truth behi...</td>\n",
       "      <td>Gee Malik Linton</td>\n",
       "      <td>Ana de Armas, Keanu Reeves, Christopher McDona...</td>\n",
       "      <td>2016</td>\n",
       "      <td>102</td>\n",
       "      <td>4.2</td>\n",
       "      <td>8409</td>\n",
       "      <td>82.956376</td>\n",
       "      <td>23.000000</td>\n",
       "    </tr>\n",
       "    <tr>\n",
       "      <th>871</th>\n",
       "      <td>872</td>\n",
       "      <td>Dragonball Evolution</td>\n",
       "      <td>Action,Adventure,Fantasy</td>\n",
       "      <td>The young warrior Son Goku sets out on a quest...</td>\n",
       "      <td>James Wong</td>\n",
       "      <td>Justin Chatwin, James Marsters, Yun-Fat Chow, ...</td>\n",
       "      <td>2009</td>\n",
       "      <td>85</td>\n",
       "      <td>2.7</td>\n",
       "      <td>59512</td>\n",
       "      <td>9.350000</td>\n",
       "      <td>45.000000</td>\n",
       "    </tr>\n",
       "    <tr>\n",
       "      <th>890</th>\n",
       "      <td>891</td>\n",
       "      <td>The Intent</td>\n",
       "      <td>Crime,Drama</td>\n",
       "      <td>Gunz (Dylan Duffus) is thrust into a world of ...</td>\n",
       "      <td>Femi Oyeniran</td>\n",
       "      <td>Dylan Duffus, Scorcher,Shone Romulus, Jade Asha</td>\n",
       "      <td>2016</td>\n",
       "      <td>104</td>\n",
       "      <td>3.5</td>\n",
       "      <td>202</td>\n",
       "      <td>82.956376</td>\n",
       "      <td>59.000000</td>\n",
       "    </tr>\n",
       "    <tr>\n",
       "      <th>936</th>\n",
       "      <td>937</td>\n",
       "      <td>The Human Centipede (First Sequence)</td>\n",
       "      <td>Horror</td>\n",
       "      <td>A mad scientist kidnaps and mutilates a trio o...</td>\n",
       "      <td>Tom Six</td>\n",
       "      <td>Dieter Laser, Ashley C. Williams, Ashlynn Yenn...</td>\n",
       "      <td>2009</td>\n",
       "      <td>92</td>\n",
       "      <td>4.4</td>\n",
       "      <td>60655</td>\n",
       "      <td>0.180000</td>\n",
       "      <td>33.000000</td>\n",
       "    </tr>\n",
       "    <tr>\n",
       "      <th>952</th>\n",
       "      <td>953</td>\n",
       "      <td>Sex and the City 2</td>\n",
       "      <td>Comedy,Drama,Romance</td>\n",
       "      <td>While wrestling with the pressures of life, lo...</td>\n",
       "      <td>Michael Patrick King</td>\n",
       "      <td>Sarah Jessica Parker, Kim Cattrall, Kristin Da...</td>\n",
       "      <td>2010</td>\n",
       "      <td>146</td>\n",
       "      <td>4.3</td>\n",
       "      <td>62403</td>\n",
       "      <td>95.330000</td>\n",
       "      <td>27.000000</td>\n",
       "    </tr>\n",
       "    <tr>\n",
       "      <th>968</th>\n",
       "      <td>969</td>\n",
       "      <td>Wrecker</td>\n",
       "      <td>Action,Horror,Thriller</td>\n",
       "      <td>Best friends Emily and Lesley go on a road tri...</td>\n",
       "      <td>Micheal Bafaro</td>\n",
       "      <td>Anna Hutchison, Andrea Whitburn, Jennifer Koen...</td>\n",
       "      <td>2015</td>\n",
       "      <td>83</td>\n",
       "      <td>3.5</td>\n",
       "      <td>1210</td>\n",
       "      <td>82.956376</td>\n",
       "      <td>37.000000</td>\n",
       "    </tr>\n",
       "  </tbody>\n",
       "</table>\n",
       "</div>"
      ],
      "text/plain": [
       "     Rank                                 Title                     Genre  \\\n",
       "42     43               Don't Fuck in the Woods                    Horror   \n",
       "49     50                         The Last Face                     Drama   \n",
       "63     64                  Fifty Shades of Grey    Drama,Romance,Thriller   \n",
       "237   238              The Disappointments Room     Drama,Horror,Thriller   \n",
       "269   270                               Satanic                    Horror   \n",
       "401   402                        The Black Room                    Horror   \n",
       "508   509                              Movie 43            Comedy,Romance   \n",
       "525   526                   Birth of the Dragon    Action,Biography,Drama   \n",
       "552   553                        Fantastic Four   Action,Adventure,Sci-Fi   \n",
       "581   582                    The Last Airbender   Action,Adventure,Family   \n",
       "616   617                  2307: Winter's Dream                    Sci-Fi   \n",
       "647   648                              Tall Men   Fantasy,Horror,Thriller   \n",
       "800   801                           Yoga Hosers     Comedy,Fantasy,Horror   \n",
       "829   830                        Disaster Movie                    Comedy   \n",
       "838   839                               Exposed       Crime,Drama,Mystery   \n",
       "871   872                  Dragonball Evolution  Action,Adventure,Fantasy   \n",
       "890   891                            The Intent               Crime,Drama   \n",
       "936   937  The Human Centipede (First Sequence)                    Horror   \n",
       "952   953                    Sex and the City 2      Comedy,Drama,Romance   \n",
       "968   969                               Wrecker    Action,Horror,Thriller   \n",
       "\n",
       "                                           Description              Director  \\\n",
       "42   A group of friends are going on a camping trip...         Shawn Burkett   \n",
       "49   A director (Charlize Theron) of an internation...             Sean Penn   \n",
       "63   Literature student Anastasia Steele's life cha...    Sam Taylor-Johnson   \n",
       "237  A mother and her young son release unimaginabl...           D.J. Caruso   \n",
       "269  Four friends on their way to Coachella stop of...       Jeffrey G. Hunt   \n",
       "401  PAUL and JENNIFER HEMDALE have just moved into...        Rolfe Kanefsky   \n",
       "508  A series of interconnected short films follows...       Elizabeth Banks   \n",
       "525  Young, up-and-coming martial artist, Bruce Lee...          George Nolfi   \n",
       "552  Four young outsiders teleport to an alternate ...            Josh Trank   \n",
       "581  Follows the adventures of Aang, a young succes...    M. Night Shyamalan   \n",
       "616  In 2307, a future soldier is sent on a mission...           Joey Curtis   \n",
       "647  A challenged man is stalked by tall phantoms i...     Jonathan Holbrook   \n",
       "800  Two teenage yoga enthusiasts team up with a le...           Kevin Smith   \n",
       "829  Over the course of one evening, an unsuspectin...       Jason Friedberg   \n",
       "838  A police detective investigates the truth behi...      Gee Malik Linton   \n",
       "871  The young warrior Son Goku sets out on a quest...            James Wong   \n",
       "890  Gunz (Dylan Duffus) is thrust into a world of ...         Femi Oyeniran   \n",
       "936  A mad scientist kidnaps and mutilates a trio o...               Tom Six   \n",
       "952  While wrestling with the pressures of life, lo...  Michael Patrick King   \n",
       "968  Best friends Emily and Lesley go on a road tri...        Micheal Bafaro   \n",
       "\n",
       "                                                Actors  Year  \\\n",
       "42   Brittany Blanton, Ayse Howard, Roman Jossart,N...  2016   \n",
       "49   Charlize Theron, Javier Bardem, Adèle Exarchop...  2016   \n",
       "63   Dakota Johnson, Jamie Dornan, Jennifer Ehle,El...  2015   \n",
       "237  Kate Beckinsale, Mel Raido, Duncan Joiner, Luc...  2016   \n",
       "269  Sarah Hyland, Steven Krueger, Justin Chon, Cla...  2016   \n",
       "401  Natasha Henstridge, Lukas Hassel, Lin Shaye,Do...  2016   \n",
       "508  Emma Stone, Stephen Merchant, Richard Gere, Li...  2013   \n",
       "525  Billy Magnussen, Terry Chen, Teresa Navarro,Va...  2016   \n",
       "552  Miles Teller, Kate Mara, Michael B. Jordan, Ja...  2015   \n",
       "581  Noah Ringer, Nicola Peltz, Jackson Rathbone,De...  2010   \n",
       "616  Paul Sidhu, Branden Coles, Arielle Holmes, Kel...  2016   \n",
       "647  Dan Crisafulli, Kay Whitney, Richard Garcia, P...  2016   \n",
       "800  Lily-Rose Depp, Harley Quinn Smith, Johnny Dep...  2016   \n",
       "829  Carmen Electra, Vanessa Lachey,Nicole Parker, ...  2008   \n",
       "838  Ana de Armas, Keanu Reeves, Christopher McDona...  2016   \n",
       "871  Justin Chatwin, James Marsters, Yun-Fat Chow, ...  2009   \n",
       "890    Dylan Duffus, Scorcher,Shone Romulus, Jade Asha  2016   \n",
       "936  Dieter Laser, Ashley C. Williams, Ashlynn Yenn...  2009   \n",
       "952  Sarah Jessica Parker, Kim Cattrall, Kristin Da...  2010   \n",
       "968  Anna Hutchison, Andrea Whitburn, Jennifer Koen...  2015   \n",
       "\n",
       "     Runtime (Minutes)  Rating   Votes  Revenue (Millions)  Metascore  \n",
       "42                  73     2.7     496           82.956376  58.985043  \n",
       "49                 130     3.7     987           82.956376  16.000000  \n",
       "63                 125     4.1  244474          166.150000  46.000000  \n",
       "237                 85     3.9    4895            2.410000  31.000000  \n",
       "269                 85     3.7    2384           82.956376  58.985043  \n",
       "401                 91     3.9     240           82.956376  71.000000  \n",
       "508                 94     4.3   83625            8.830000  18.000000  \n",
       "525                103     3.9     552           93.050000  61.000000  \n",
       "552                100     4.3  121847           56.110000  27.000000  \n",
       "581                103     4.2  125129           82.956376  20.000000  \n",
       "616                101     4.0     277           20.760000  53.000000  \n",
       "647                133     3.2     173           82.956376  57.000000  \n",
       "800                 88     4.3    7091           82.956376  23.000000  \n",
       "829                 87     1.9   77207           14.170000  15.000000  \n",
       "838                102     4.2    8409           82.956376  23.000000  \n",
       "871                 85     2.7   59512            9.350000  45.000000  \n",
       "890                104     3.5     202           82.956376  59.000000  \n",
       "936                 92     4.4   60655            0.180000  33.000000  \n",
       "952                146     4.3   62403           95.330000  27.000000  \n",
       "968                 83     3.5    1210           82.956376  37.000000  "
      ]
     },
     "execution_count": 16,
     "metadata": {},
     "output_type": "execute_result"
    }
   ],
   "source": [
    "# to show those records whose rating is less than 5\n",
    "\n",
    "R = df[df['Rating']<4.5]\n",
    "#print (R)\n",
    "R"
   ]
  },
  {
   "cell_type": "code",
   "execution_count": 17,
   "id": "020b32ba",
   "metadata": {},
   "outputs": [
    {
     "data": {
      "image/png": "[encoded data removed]",
      "text/plain": [
       "<Figure size 720x720 with 1 Axes>"
      ]
     },
     "metadata": {
      "needs_background": "light"
     },
     "output_type": "display_data"
    }
   ],
   "source": [
    "#create boxplot : for target variable : Rating with input variable Title\n",
    "\n",
    "plt.figure(figsize=(10,10))\n",
    "sb.boxplot(data=R,x=\"Rating\",y=\"Title\")\n",
    "plt.show()\n",
    "\n",
    "# figsize function is used to increase the size"
   ]
  },
  {
   "cell_type": "code",
   "execution_count": 18,
   "id": "a2128e7d",
   "metadata": {},
   "outputs": [
    {
     "data": {
      "text/plain": [
       "Rank                    int64\n",
       "Title                  object\n",
       "Genre                  object\n",
       "Description            object\n",
       "Director               object\n",
       "Actors                 object\n",
       "Year                    int64\n",
       "Runtime (Minutes)       int64\n",
       "Rating                float64\n",
       "Votes                   int64\n",
       "Revenue (Millions)    float64\n",
       "Metascore             float64\n",
       "dtype: object"
      ]
     },
     "execution_count": 18,
     "metadata": {},
     "output_type": "execute_result"
    }
   ],
   "source": [
    "df.dtypes"
   ]
  },
  {
   "cell_type": "code",
   "execution_count": 19,
   "id": "fb4fcbc7",
   "metadata": {},
   "outputs": [
    {
     "data": {
      "text/plain": [
       "Title          object\n",
       "Genre          object\n",
       "Description    object\n",
       "Director       object\n",
       "Actors         object\n",
       "dtype: object"
      ]
     },
     "execution_count": 19,
     "metadata": {},
     "output_type": "execute_result"
    }
   ],
   "source": [
    "# split dataframe df into 2 dataframes\n",
    "# 1st dataframe -- holds all object type data\n",
    "# 2nd dataframe -- hold all numerical type data\n",
    "# so first create dataframe name df_cat which hold object type data\n",
    "\n",
    "df_category=df.select_dtypes(object)\n",
    "df_category.dtypes"
   ]
  },
  {
   "cell_type": "code",
   "execution_count": 20,
   "id": "68a85b93",
   "metadata": {},
   "outputs": [
    {
     "data": {
      "text/plain": [
       "Rank                    int64\n",
       "Year                    int64\n",
       "Runtime (Minutes)       int64\n",
       "Rating                float64\n",
       "Votes                   int64\n",
       "Revenue (Millions)    float64\n",
       "Metascore             float64\n",
       "dtype: object"
      ]
     },
     "execution_count": 20,
     "metadata": {},
     "output_type": "execute_result"
    }
   ],
   "source": [
    "# then create dataframe name df_num which hold numeric type data\n",
    "\n",
    "df_number=df.select_dtypes([\"int64\",\"float64\"])\n",
    "df_number.dtypes"
   ]
  },
  {
   "cell_type": "code",
   "execution_count": 21,
   "id": "e809b5e4",
   "metadata": {},
   "outputs": [
    {
     "data": {
      "text/html": [
       "<div>\n",
       "<style scoped>\n",
       "    .dataframe tbody tr th:only-of-type {\n",
       "        vertical-align: middle;\n",
       "    }\n",
       "\n",
       "    .dataframe tbody tr th {\n",
       "        vertical-align: top;\n",
       "    }\n",
       "\n",
       "    .dataframe thead th {\n",
       "        text-align: right;\n",
       "    }\n",
       "</style>\n",
       "<table border=\"1\" class=\"dataframe\">\n",
       "  <thead>\n",
       "    <tr style=\"text-align: right;\">\n",
       "      <th></th>\n",
       "      <th>Title</th>\n",
       "      <th>Genre</th>\n",
       "      <th>Description</th>\n",
       "      <th>Director</th>\n",
       "      <th>Actors</th>\n",
       "    </tr>\n",
       "  </thead>\n",
       "  <tbody>\n",
       "    <tr>\n",
       "      <th>0</th>\n",
       "      <td>Guardians of the Galaxy</td>\n",
       "      <td>Action,Adventure,Sci-Fi</td>\n",
       "      <td>A group of intergalactic criminals are forced ...</td>\n",
       "      <td>James Gunn</td>\n",
       "      <td>Chris Pratt, Vin Diesel, Bradley Cooper, Zoe S...</td>\n",
       "    </tr>\n",
       "    <tr>\n",
       "      <th>1</th>\n",
       "      <td>Prometheus</td>\n",
       "      <td>Adventure,Mystery,Sci-Fi</td>\n",
       "      <td>Following clues to the origin of mankind, a te...</td>\n",
       "      <td>Ridley Scott</td>\n",
       "      <td>Noomi Rapace, Logan Marshall-Green, Michael Fa...</td>\n",
       "    </tr>\n",
       "    <tr>\n",
       "      <th>2</th>\n",
       "      <td>Split</td>\n",
       "      <td>Horror,Thriller</td>\n",
       "      <td>Three girls are kidnapped by a man with a diag...</td>\n",
       "      <td>M. Night Shyamalan</td>\n",
       "      <td>James McAvoy, Anya Taylor-Joy, Haley Lu Richar...</td>\n",
       "    </tr>\n",
       "    <tr>\n",
       "      <th>3</th>\n",
       "      <td>Sing</td>\n",
       "      <td>Animation,Comedy,Family</td>\n",
       "      <td>In a city of humanoid animals, a hustling thea...</td>\n",
       "      <td>Christophe Lourdelet</td>\n",
       "      <td>Matthew McConaughey,Reese Witherspoon, Seth Ma...</td>\n",
       "    </tr>\n",
       "    <tr>\n",
       "      <th>4</th>\n",
       "      <td>Suicide Squad</td>\n",
       "      <td>Action,Adventure,Fantasy</td>\n",
       "      <td>A secret government agency recruits some of th...</td>\n",
       "      <td>David Ayer</td>\n",
       "      <td>Will Smith, Jared Leto, Margot Robbie, Viola D...</td>\n",
       "    </tr>\n",
       "  </tbody>\n",
       "</table>\n",
       "</div>"
      ],
      "text/plain": [
       "                     Title                     Genre  \\\n",
       "0  Guardians of the Galaxy   Action,Adventure,Sci-Fi   \n",
       "1               Prometheus  Adventure,Mystery,Sci-Fi   \n",
       "2                    Split           Horror,Thriller   \n",
       "3                     Sing   Animation,Comedy,Family   \n",
       "4            Suicide Squad  Action,Adventure,Fantasy   \n",
       "\n",
       "                                         Description              Director  \\\n",
       "0  A group of intergalactic criminals are forced ...            James Gunn   \n",
       "1  Following clues to the origin of mankind, a te...          Ridley Scott   \n",
       "2  Three girls are kidnapped by a man with a diag...    M. Night Shyamalan   \n",
       "3  In a city of humanoid animals, a hustling thea...  Christophe Lourdelet   \n",
       "4  A secret government agency recruits some of th...            David Ayer   \n",
       "\n",
       "                                              Actors  \n",
       "0  Chris Pratt, Vin Diesel, Bradley Cooper, Zoe S...  \n",
       "1  Noomi Rapace, Logan Marshall-Green, Michael Fa...  \n",
       "2  James McAvoy, Anya Taylor-Joy, Haley Lu Richar...  \n",
       "3  Matthew McConaughey,Reese Witherspoon, Seth Ma...  \n",
       "4  Will Smith, Jared Leto, Margot Robbie, Viola D...  "
      ]
     },
     "execution_count": 21,
     "metadata": {},
     "output_type": "execute_result"
    }
   ],
   "source": [
    "df_category.head()"
   ]
  },
  {
   "cell_type": "code",
   "execution_count": 22,
   "id": "665624dc",
   "metadata": {},
   "outputs": [
    {
     "data": {
      "text/html": [
       "<div>\n",
       "<style scoped>\n",
       "    .dataframe tbody tr th:only-of-type {\n",
       "        vertical-align: middle;\n",
       "    }\n",
       "\n",
       "    .dataframe tbody tr th {\n",
       "        vertical-align: top;\n",
       "    }\n",
       "\n",
       "    .dataframe thead th {\n",
       "        text-align: right;\n",
       "    }\n",
       "</style>\n",
       "<table border=\"1\" class=\"dataframe\">\n",
       "  <thead>\n",
       "    <tr style=\"text-align: right;\">\n",
       "      <th></th>\n",
       "      <th>Rank</th>\n",
       "      <th>Year</th>\n",
       "      <th>Runtime (Minutes)</th>\n",
       "      <th>Rating</th>\n",
       "      <th>Votes</th>\n",
       "      <th>Revenue (Millions)</th>\n",
       "      <th>Metascore</th>\n",
       "    </tr>\n",
       "  </thead>\n",
       "  <tbody>\n",
       "    <tr>\n",
       "      <th>0</th>\n",
       "      <td>1</td>\n",
       "      <td>2014</td>\n",
       "      <td>121</td>\n",
       "      <td>8.1</td>\n",
       "      <td>757074</td>\n",
       "      <td>333.13</td>\n",
       "      <td>76.0</td>\n",
       "    </tr>\n",
       "    <tr>\n",
       "      <th>1</th>\n",
       "      <td>2</td>\n",
       "      <td>2012</td>\n",
       "      <td>124</td>\n",
       "      <td>7.0</td>\n",
       "      <td>485820</td>\n",
       "      <td>126.46</td>\n",
       "      <td>65.0</td>\n",
       "    </tr>\n",
       "    <tr>\n",
       "      <th>2</th>\n",
       "      <td>3</td>\n",
       "      <td>2016</td>\n",
       "      <td>117</td>\n",
       "      <td>7.3</td>\n",
       "      <td>157606</td>\n",
       "      <td>138.12</td>\n",
       "      <td>62.0</td>\n",
       "    </tr>\n",
       "    <tr>\n",
       "      <th>3</th>\n",
       "      <td>4</td>\n",
       "      <td>2016</td>\n",
       "      <td>108</td>\n",
       "      <td>7.2</td>\n",
       "      <td>60545</td>\n",
       "      <td>270.32</td>\n",
       "      <td>59.0</td>\n",
       "    </tr>\n",
       "    <tr>\n",
       "      <th>4</th>\n",
       "      <td>5</td>\n",
       "      <td>2016</td>\n",
       "      <td>123</td>\n",
       "      <td>6.2</td>\n",
       "      <td>393727</td>\n",
       "      <td>325.02</td>\n",
       "      <td>40.0</td>\n",
       "    </tr>\n",
       "  </tbody>\n",
       "</table>\n",
       "</div>"
      ],
      "text/plain": [
       "   Rank  Year  Runtime (Minutes)  Rating   Votes  Revenue (Millions)  \\\n",
       "0     1  2014                121     8.1  757074              333.13   \n",
       "1     2  2012                124     7.0  485820              126.46   \n",
       "2     3  2016                117     7.3  157606              138.12   \n",
       "3     4  2016                108     7.2   60545              270.32   \n",
       "4     5  2016                123     6.2  393727              325.02   \n",
       "\n",
       "   Metascore  \n",
       "0       76.0  \n",
       "1       65.0  \n",
       "2       62.0  \n",
       "3       59.0  \n",
       "4       40.0  "
      ]
     },
     "execution_count": 22,
     "metadata": {},
     "output_type": "execute_result"
    }
   ],
   "source": [
    "df_number.head()"
   ]
  },
  {
   "cell_type": "code",
   "execution_count": 23,
   "id": "9b991aa8",
   "metadata": {},
   "outputs": [
    {
     "data": {
      "text/plain": [
       "(1000, 5)"
      ]
     },
     "execution_count": 23,
     "metadata": {},
     "output_type": "execute_result"
    }
   ],
   "source": [
    "df_category.shape"
   ]
  },
  {
   "cell_type": "code",
   "execution_count": 24,
   "id": "8bf6372f",
   "metadata": {},
   "outputs": [],
   "source": [
    "# now Convert all categorical type data(object type) into number type\n",
    "#from sklearn.preprocessing import LabelEncoder\n",
    "    \n",
    "for col in df_category:\n",
    "    # create object of LabelEncoder class\n",
    "    le=LabelEncoder()\n",
    "    df_category[col]=le.fit_transform(df_category[col])"
   ]
  },
  {
   "cell_type": "code",
   "execution_count": 25,
   "id": "9832d3f5",
   "metadata": {},
   "outputs": [
    {
     "data": {
      "text/html": [
       "<div>\n",
       "<style scoped>\n",
       "    .dataframe tbody tr th:only-of-type {\n",
       "        vertical-align: middle;\n",
       "    }\n",
       "\n",
       "    .dataframe tbody tr th {\n",
       "        vertical-align: top;\n",
       "    }\n",
       "\n",
       "    .dataframe thead th {\n",
       "        text-align: right;\n",
       "    }\n",
       "</style>\n",
       "<table border=\"1\" class=\"dataframe\">\n",
       "  <thead>\n",
       "    <tr style=\"text-align: right;\">\n",
       "      <th></th>\n",
       "      <th>Title</th>\n",
       "      <th>Genre</th>\n",
       "      <th>Description</th>\n",
       "      <th>Director</th>\n",
       "      <th>Actors</th>\n",
       "    </tr>\n",
       "  </thead>\n",
       "  <tbody>\n",
       "    <tr>\n",
       "      <th>0</th>\n",
       "      <td>287</td>\n",
       "      <td>11</td>\n",
       "      <td>110</td>\n",
       "      <td>265</td>\n",
       "      <td>184</td>\n",
       "    </tr>\n",
       "    <tr>\n",
       "      <th>1</th>\n",
       "      <td>568</td>\n",
       "      <td>85</td>\n",
       "      <td>538</td>\n",
       "      <td>518</td>\n",
       "      <td>736</td>\n",
       "    </tr>\n",
       "    <tr>\n",
       "      <th>2</th>\n",
       "      <td>655</td>\n",
       "      <td>195</td>\n",
       "      <td>880</td>\n",
       "      <td>391</td>\n",
       "      <td>418</td>\n",
       "    </tr>\n",
       "    <tr>\n",
       "      <th>3</th>\n",
       "      <td>635</td>\n",
       "      <td>92</td>\n",
       "      <td>613</td>\n",
       "      <td>105</td>\n",
       "      <td>658</td>\n",
       "    </tr>\n",
       "    <tr>\n",
       "      <th>4</th>\n",
       "      <td>673</td>\n",
       "      <td>7</td>\n",
       "      <td>220</td>\n",
       "      <td>136</td>\n",
       "      <td>971</td>\n",
       "    </tr>\n",
       "  </tbody>\n",
       "</table>\n",
       "</div>"
      ],
      "text/plain": [
       "   Title  Genre  Description  Director  Actors\n",
       "0    287     11          110       265     184\n",
       "1    568     85          538       518     736\n",
       "2    655    195          880       391     418\n",
       "3    635     92          613       105     658\n",
       "4    673      7          220       136     971"
      ]
     },
     "execution_count": 25,
     "metadata": {},
     "output_type": "execute_result"
    }
   ],
   "source": [
    "df_category.head() # to check the category"
   ]
  },
  {
   "cell_type": "code",
   "execution_count": 26,
   "id": "ea9a31dd",
   "metadata": {},
   "outputs": [
    {
     "data": {
      "text/plain": [
       "Title          int32\n",
       "Genre          int32\n",
       "Description    int32\n",
       "Director       int32\n",
       "Actors         int32\n",
       "dtype: object"
      ]
     },
     "execution_count": 26,
     "metadata": {},
     "output_type": "execute_result"
    }
   ],
   "source": [
    "df_category.dtypes"
   ]
  },
  {
   "cell_type": "code",
   "execution_count": 27,
   "id": "30d30a36",
   "metadata": {},
   "outputs": [
    {
     "data": {
      "text/plain": [
       "Rank                    int64\n",
       "Year                    int64\n",
       "Runtime (Minutes)       int64\n",
       "Rating                float64\n",
       "Votes                   int64\n",
       "Revenue (Millions)    float64\n",
       "Metascore             float64\n",
       "dtype: object"
      ]
     },
     "execution_count": 27,
     "metadata": {},
     "output_type": "execute_result"
    }
   ],
   "source": [
    "#To handle skewness on numeric column\n",
    "#we have to see skewness on continuos numeric values\n",
    "df_number.dtypes"
   ]
  },
  {
   "cell_type": "code",
   "execution_count": 28,
   "id": "b8831426",
   "metadata": {},
   "outputs": [
    {
     "name": "stdout",
     "output_type": "stream",
     "text": [
      "Index(['Rank', 'Year', 'Runtime (Minutes)', 'Rating', 'Votes',\n",
      "       'Revenue (Millions)', 'Metascore'],\n",
      "      dtype='object')\n",
      "Column Name : Rank and skewness : 0.0\n"
     ]
    },
    {
     "data": {
      "image/png": "[encoded data removed]",
      "text/plain": [
       "<Figure size 432x288 with 1 Axes>"
      ]
     },
     "metadata": {
      "needs_background": "light"
     },
     "output_type": "display_data"
    },
    {
     "data": {
      "image/png": "[encoded data removed]",
      "text/plain": [
       "<Figure size 432x288 with 1 Axes>"
      ]
     },
     "metadata": {
      "needs_background": "light"
     },
     "output_type": "display_data"
    },
    {
     "name": "stdout",
     "output_type": "stream",
     "text": [
      "Column Name : Year and skewness : -0.6898787090642932\n"
     ]
    },
    {
     "data": {
      "image/png": "[encoded data removed]",
      "text/plain": [
       "<Figure size 432x288 with 1 Axes>"
      ]
     },
     "metadata": {
      "needs_background": "light"
     },
     "output_type": "display_data"
    },
    {
     "data": {
      "image/png": "[encoded data removed]",
      "text/plain": [
       "<Figure size 432x288 with 1 Axes>"
      ]
     },
     "metadata": {
      "needs_background": "light"
     },
     "output_type": "display_data"
    },
    {
     "name": "stdout",
     "output_type": "stream",
     "text": [
      "Column Name : Runtime (Minutes) and skewness : 0.8467127313911146\n"
     ]
    },
    {
     "data": {
      "image/png": "[encoded data removed]",
      "text/plain": [
       "<Figure size 432x288 with 1 Axes>"
      ]
     },
     "metadata": {
      "needs_background": "light"
     },
     "output_type": "display_data"
    },
    {
     "data": {
      "image/png": "[encoded data removed]",
      "text/plain": [
       "<Figure size 432x288 with 1 Axes>"
      ]
     },
     "metadata": {
      "needs_background": "light"
     },
     "output_type": "display_data"
    },
    {
     "name": "stdout",
     "output_type": "stream",
     "text": [
      "Column Name : Rating and skewness : -0.7431419408051025\n"
     ]
    },
    {
     "data": {
      "image/png": "[encoded data removed]",
      "text/plain": [
       "<Figure size 432x288 with 1 Axes>"
      ]
     },
     "metadata": {
      "needs_background": "light"
     },
     "output_type": "display_data"
    },
    {
     "data": {
      "image/png": "[encoded data removed]",
      "text/plain": [
       "<Figure size 432x288 with 1 Axes>"
      ]
     },
     "metadata": {
      "needs_background": "light"
     },
     "output_type": "display_data"
    },
    {
     "name": "stdout",
     "output_type": "stream",
     "text": [
      "Column Name : Votes and skewness : 2.507918482788801\n"
     ]
    },
    {
     "data": {
      "image/png": "[encoded data removed]",
      "text/plain": [
       "<Figure size 432x288 with 1 Axes>"
      ]
     },
     "metadata": {
      "needs_background": "light"
     },
     "output_type": "display_data"
    },
    {
     "data": {
      "image/png": "[encoded data removed]",
      "text/plain": [
       "<Figure size 432x288 with 1 Axes>"
      ]
     },
     "metadata": {
      "needs_background": "light"
     },
     "output_type": "display_data"
    },
    {
     "name": "stdout",
     "output_type": "stream",
     "text": [
      "Column Name : Revenue (Millions) and skewness : 2.7756667049615684\n"
     ]
    },
    {
     "data": {
      "image/png": "[encoded data removed]",
      "text/plain": [
       "<Figure size 432x288 with 1 Axes>"
      ]
     },
     "metadata": {
      "needs_background": "light"
     },
     "output_type": "display_data"
    },
    {
     "data": {
      "image/png": "[encoded data removed]",
      "text/plain": [
       "<Figure size 432x288 with 1 Axes>"
      ]
     },
     "metadata": {
      "needs_background": "light"
     },
     "output_type": "display_data"
    },
    {
     "name": "stdout",
     "output_type": "stream",
     "text": [
      "Column Name : Metascore and skewness : -0.12803962005923128\n"
     ]
    },
    {
     "data": {
      "image/png": "[encoded data removed]",
      "text/plain": [
       "<Figure size 432x288 with 1 Axes>"
      ]
     },
     "metadata": {
      "needs_background": "light"
     },
     "output_type": "display_data"
    },
    {
     "data": {
      "image/png": "[encoded data removed]",
      "text/plain": [
       "<Figure size 432x288 with 1 Axes>"
      ]
     },
     "metadata": {
      "needs_background": "light"
     },
     "output_type": "display_data"
    }
   ],
   "source": [
    "# Checking skewness\n",
    "\n",
    "columns=df_number.columns\n",
    "print(columns)\n",
    "for col in columns:\n",
    "    s=df_number[col].skew()\n",
    "    print(\"Column Name : {} and skewness : {}\".format(col,s))\n",
    "    sb.histplot(df_number[col])\n",
    "    plt.show()\n",
    "    sb.distplot(df_number[col])\n",
    "    plt.show()\n",
    "    "
   ]
  },
  {
   "cell_type": "code",
   "execution_count": 29,
   "id": "1225d524",
   "metadata": {},
   "outputs": [
    {
     "data": {
      "image/png": "[encoded data removed]",
      "text/plain": [
       "<Figure size 720x720 with 2 Axes>"
      ]
     },
     "metadata": {
      "needs_background": "light"
     },
     "output_type": "display_data"
    }
   ],
   "source": [
    "#check correlation between input and output\n",
    "#here output is price and rest all are inputs\n",
    "#we use corr() inbulit to find correlation between two variable \n",
    "\n",
    "plt.figure(figsize=(10,10)) #figure  is use to manage the size of the sheet with height and width parameter\n",
    "sb.heatmap(df_number.corr(),annot=True)\n",
    "plt.show()"
   ]
  },
  {
   "cell_type": "code",
   "execution_count": 30,
   "id": "04745519",
   "metadata": {},
   "outputs": [],
   "source": [
    "#to minimize skewness of df['Year'] column\n",
    "\n",
    "df['Year']=np.log(df['Year'])"
   ]
  },
  {
   "cell_type": "code",
   "execution_count": 31,
   "id": "0edf7086",
   "metadata": {},
   "outputs": [
    {
     "data": {
      "text/plain": [
       "-0.6915584895130164"
      ]
     },
     "execution_count": 31,
     "metadata": {},
     "output_type": "execute_result"
    }
   ],
   "source": [
    "# now check Year skewness\n",
    "\n",
    "df['Year'].skew()"
   ]
  },
  {
   "cell_type": "code",
   "execution_count": 32,
   "id": "b90a3f9e",
   "metadata": {},
   "outputs": [],
   "source": [
    "df['Revenue (Millions)']=np.log(df['Revenue (Millions)'])"
   ]
  },
  {
   "cell_type": "code",
   "execution_count": 33,
   "id": "ddbcff1c",
   "metadata": {},
   "outputs": [
    {
     "data": {
      "text/plain": [
       "nan"
      ]
     },
     "execution_count": 33,
     "metadata": {},
     "output_type": "execute_result"
    }
   ],
   "source": [
    "# now check Revenue (Millions) skewness\n",
    "\n",
    "df['Revenue (Millions)'].skew()"
   ]
  },
  {
   "cell_type": "code",
   "execution_count": 34,
   "id": "5c9cbc96",
   "metadata": {},
   "outputs": [
    {
     "data": {
      "image/png": "[encoded data removed]",
      "text/plain": [
       "<Figure size 432x288 with 1 Axes>"
      ]
     },
     "metadata": {
      "needs_background": "light"
     },
     "output_type": "display_data"
    }
   ],
   "source": [
    "sb.histplot(df['Revenue (Millions)'])\n",
    "plt.show()"
   ]
  },
  {
   "cell_type": "code",
   "execution_count": 35,
   "id": "00e7ebda",
   "metadata": {},
   "outputs": [
    {
     "data": {
      "text/html": [
       "<div>\n",
       "<style scoped>\n",
       "    .dataframe tbody tr th:only-of-type {\n",
       "        vertical-align: middle;\n",
       "    }\n",
       "\n",
       "    .dataframe tbody tr th {\n",
       "        vertical-align: top;\n",
       "    }\n",
       "\n",
       "    .dataframe thead th {\n",
       "        text-align: right;\n",
       "    }\n",
       "</style>\n",
       "<table border=\"1\" class=\"dataframe\">\n",
       "  <thead>\n",
       "    <tr style=\"text-align: right;\">\n",
       "      <th></th>\n",
       "      <th>Title</th>\n",
       "      <th>Genre</th>\n",
       "      <th>Description</th>\n",
       "      <th>Director</th>\n",
       "      <th>Actors</th>\n",
       "      <th>Rank</th>\n",
       "      <th>Year</th>\n",
       "      <th>Runtime (Minutes)</th>\n",
       "      <th>Rating</th>\n",
       "      <th>Votes</th>\n",
       "      <th>Revenue (Millions)</th>\n",
       "      <th>Metascore</th>\n",
       "    </tr>\n",
       "  </thead>\n",
       "  <tbody>\n",
       "    <tr>\n",
       "      <th>0</th>\n",
       "      <td>287</td>\n",
       "      <td>11</td>\n",
       "      <td>110</td>\n",
       "      <td>265</td>\n",
       "      <td>184</td>\n",
       "      <td>1</td>\n",
       "      <td>2014</td>\n",
       "      <td>121</td>\n",
       "      <td>8.1</td>\n",
       "      <td>757074</td>\n",
       "      <td>333.130000</td>\n",
       "      <td>76.0</td>\n",
       "    </tr>\n",
       "    <tr>\n",
       "      <th>1</th>\n",
       "      <td>568</td>\n",
       "      <td>85</td>\n",
       "      <td>538</td>\n",
       "      <td>518</td>\n",
       "      <td>736</td>\n",
       "      <td>2</td>\n",
       "      <td>2012</td>\n",
       "      <td>124</td>\n",
       "      <td>7.0</td>\n",
       "      <td>485820</td>\n",
       "      <td>126.460000</td>\n",
       "      <td>65.0</td>\n",
       "    </tr>\n",
       "    <tr>\n",
       "      <th>2</th>\n",
       "      <td>655</td>\n",
       "      <td>195</td>\n",
       "      <td>880</td>\n",
       "      <td>391</td>\n",
       "      <td>418</td>\n",
       "      <td>3</td>\n",
       "      <td>2016</td>\n",
       "      <td>117</td>\n",
       "      <td>7.3</td>\n",
       "      <td>157606</td>\n",
       "      <td>138.120000</td>\n",
       "      <td>62.0</td>\n",
       "    </tr>\n",
       "    <tr>\n",
       "      <th>3</th>\n",
       "      <td>635</td>\n",
       "      <td>92</td>\n",
       "      <td>613</td>\n",
       "      <td>105</td>\n",
       "      <td>658</td>\n",
       "      <td>4</td>\n",
       "      <td>2016</td>\n",
       "      <td>108</td>\n",
       "      <td>7.2</td>\n",
       "      <td>60545</td>\n",
       "      <td>270.320000</td>\n",
       "      <td>59.0</td>\n",
       "    </tr>\n",
       "    <tr>\n",
       "      <th>4</th>\n",
       "      <td>673</td>\n",
       "      <td>7</td>\n",
       "      <td>220</td>\n",
       "      <td>136</td>\n",
       "      <td>971</td>\n",
       "      <td>5</td>\n",
       "      <td>2016</td>\n",
       "      <td>123</td>\n",
       "      <td>6.2</td>\n",
       "      <td>393727</td>\n",
       "      <td>325.020000</td>\n",
       "      <td>40.0</td>\n",
       "    </tr>\n",
       "    <tr>\n",
       "      <th>...</th>\n",
       "      <td>...</td>\n",
       "      <td>...</td>\n",
       "      <td>...</td>\n",
       "      <td>...</td>\n",
       "      <td>...</td>\n",
       "      <td>...</td>\n",
       "      <td>...</td>\n",
       "      <td>...</td>\n",
       "      <td>...</td>\n",
       "      <td>...</td>\n",
       "      <td>...</td>\n",
       "      <td>...</td>\n",
       "    </tr>\n",
       "    <tr>\n",
       "      <th>995</th>\n",
       "      <td>612</td>\n",
       "      <td>144</td>\n",
       "      <td>273</td>\n",
       "      <td>69</td>\n",
       "      <td>160</td>\n",
       "      <td>996</td>\n",
       "      <td>2015</td>\n",
       "      <td>111</td>\n",
       "      <td>6.2</td>\n",
       "      <td>27585</td>\n",
       "      <td>82.956376</td>\n",
       "      <td>45.0</td>\n",
       "    </tr>\n",
       "    <tr>\n",
       "      <th>996</th>\n",
       "      <td>316</td>\n",
       "      <td>190</td>\n",
       "      <td>874</td>\n",
       "      <td>176</td>\n",
       "      <td>574</td>\n",
       "      <td>997</td>\n",
       "      <td>2007</td>\n",
       "      <td>94</td>\n",
       "      <td>5.5</td>\n",
       "      <td>73152</td>\n",
       "      <td>17.540000</td>\n",
       "      <td>46.0</td>\n",
       "    </tr>\n",
       "    <tr>\n",
       "      <th>997</th>\n",
       "      <td>668</td>\n",
       "      <td>170</td>\n",
       "      <td>742</td>\n",
       "      <td>324</td>\n",
       "      <td>794</td>\n",
       "      <td>998</td>\n",
       "      <td>2008</td>\n",
       "      <td>98</td>\n",
       "      <td>6.2</td>\n",
       "      <td>70699</td>\n",
       "      <td>58.010000</td>\n",
       "      <td>50.0</td>\n",
       "    </tr>\n",
       "    <tr>\n",
       "      <th>998</th>\n",
       "      <td>611</td>\n",
       "      <td>61</td>\n",
       "      <td>186</td>\n",
       "      <td>549</td>\n",
       "      <td>12</td>\n",
       "      <td>999</td>\n",
       "      <td>2014</td>\n",
       "      <td>93</td>\n",
       "      <td>5.6</td>\n",
       "      <td>4881</td>\n",
       "      <td>82.956376</td>\n",
       "      <td>22.0</td>\n",
       "    </tr>\n",
       "    <tr>\n",
       "      <th>999</th>\n",
       "      <td>504</td>\n",
       "      <td>121</td>\n",
       "      <td>249</td>\n",
       "      <td>59</td>\n",
       "      <td>550</td>\n",
       "      <td>1000</td>\n",
       "      <td>2016</td>\n",
       "      <td>87</td>\n",
       "      <td>5.3</td>\n",
       "      <td>12435</td>\n",
       "      <td>19.640000</td>\n",
       "      <td>11.0</td>\n",
       "    </tr>\n",
       "  </tbody>\n",
       "</table>\n",
       "<p>1000 rows × 12 columns</p>\n",
       "</div>"
      ],
      "text/plain": [
       "     Title  Genre  Description  Director  Actors  Rank  Year  \\\n",
       "0      287     11          110       265     184     1  2014   \n",
       "1      568     85          538       518     736     2  2012   \n",
       "2      655    195          880       391     418     3  2016   \n",
       "3      635     92          613       105     658     4  2016   \n",
       "4      673      7          220       136     971     5  2016   \n",
       "..     ...    ...          ...       ...     ...   ...   ...   \n",
       "995    612    144          273        69     160   996  2015   \n",
       "996    316    190          874       176     574   997  2007   \n",
       "997    668    170          742       324     794   998  2008   \n",
       "998    611     61          186       549      12   999  2014   \n",
       "999    504    121          249        59     550  1000  2016   \n",
       "\n",
       "     Runtime (Minutes)  Rating   Votes  Revenue (Millions)  Metascore  \n",
       "0                  121     8.1  757074          333.130000       76.0  \n",
       "1                  124     7.0  485820          126.460000       65.0  \n",
       "2                  117     7.3  157606          138.120000       62.0  \n",
       "3                  108     7.2   60545          270.320000       59.0  \n",
       "4                  123     6.2  393727          325.020000       40.0  \n",
       "..                 ...     ...     ...                 ...        ...  \n",
       "995                111     6.2   27585           82.956376       45.0  \n",
       "996                 94     5.5   73152           17.540000       46.0  \n",
       "997                 98     6.2   70699           58.010000       50.0  \n",
       "998                 93     5.6    4881           82.956376       22.0  \n",
       "999                 87     5.3   12435           19.640000       11.0  \n",
       "\n",
       "[1000 rows x 12 columns]"
      ]
     },
     "execution_count": 35,
     "metadata": {},
     "output_type": "execute_result"
    }
   ],
   "source": [
    "# merge both  dataframe df_category and df_number and hold in new dataframe\n",
    "# we use pandas concat because numpy remove all the labels(i.e heading) of the column\n",
    "# for column  number of rows must be same\n",
    "# concat() inbuilt methods of pandas,to join 2 or more dataframe column wise\n",
    "# for column wise we use axis=1\n",
    "\n",
    "df_new=pd.concat([df_category,df_number],axis=1)\n",
    "df_new"
   ]
  },
  {
   "cell_type": "code",
   "execution_count": 36,
   "id": "2eff04cc",
   "metadata": {},
   "outputs": [
    {
     "data": {
      "text/plain": [
       "Index(['Title', 'Genre', 'Description', 'Director', 'Actors', 'Rank', 'Year',\n",
       "       'Runtime (Minutes)', 'Votes', 'Revenue (Millions)', 'Metascore'],\n",
       "      dtype='object')"
      ]
     },
     "execution_count": 36,
     "metadata": {},
     "output_type": "execute_result"
    }
   ],
   "source": [
    "#select input and output from given dataset\n",
    "#We have to mention axis=1 for column otherwise it will consider axis=0 i.e rows\n",
    "\n",
    "X=df_new.drop('Rating',axis=1)  #input\n",
    "X.columns\n",
    "#Y=df_new['Rating']  #output"
   ]
  },
  {
   "cell_type": "code",
   "execution_count": 37,
   "id": "981cb294",
   "metadata": {},
   "outputs": [
    {
     "data": {
      "text/plain": [
       "0      8.1\n",
       "1      7.0\n",
       "2      7.3\n",
       "3      7.2\n",
       "4      6.2\n",
       "      ... \n",
       "995    6.2\n",
       "996    5.5\n",
       "997    6.2\n",
       "998    5.6\n",
       "999    5.3\n",
       "Name: Rating, Length: 1000, dtype: float64"
      ]
     },
     "execution_count": 37,
     "metadata": {},
     "output_type": "execute_result"
    }
   ],
   "source": [
    "X=df_new.drop('Rating',axis=1)  #input\n",
    "\n",
    "Y=df_new['Rating']  #output\n",
    "Y # particular single column which is dropped"
   ]
  },
  {
   "cell_type": "code",
   "execution_count": 38,
   "id": "586ba232",
   "metadata": {},
   "outputs": [
    {
     "data": {
      "text/html": [
       "<div>\n",
       "<style scoped>\n",
       "    .dataframe tbody tr th:only-of-type {\n",
       "        vertical-align: middle;\n",
       "    }\n",
       "\n",
       "    .dataframe tbody tr th {\n",
       "        vertical-align: top;\n",
       "    }\n",
       "\n",
       "    .dataframe thead th {\n",
       "        text-align: right;\n",
       "    }\n",
       "</style>\n",
       "<table border=\"1\" class=\"dataframe\">\n",
       "  <thead>\n",
       "    <tr style=\"text-align: right;\">\n",
       "      <th></th>\n",
       "      <th>Title</th>\n",
       "      <th>Genre</th>\n",
       "      <th>Description</th>\n",
       "      <th>Director</th>\n",
       "      <th>Actors</th>\n",
       "      <th>Rank</th>\n",
       "      <th>Year</th>\n",
       "      <th>Runtime (Minutes)</th>\n",
       "      <th>Votes</th>\n",
       "      <th>Revenue (Millions)</th>\n",
       "      <th>Metascore</th>\n",
       "    </tr>\n",
       "  </thead>\n",
       "  <tbody>\n",
       "    <tr>\n",
       "      <th>0</th>\n",
       "      <td>287</td>\n",
       "      <td>11</td>\n",
       "      <td>110</td>\n",
       "      <td>265</td>\n",
       "      <td>184</td>\n",
       "      <td>1</td>\n",
       "      <td>2014</td>\n",
       "      <td>121</td>\n",
       "      <td>757074</td>\n",
       "      <td>333.130000</td>\n",
       "      <td>76.0</td>\n",
       "    </tr>\n",
       "    <tr>\n",
       "      <th>1</th>\n",
       "      <td>568</td>\n",
       "      <td>85</td>\n",
       "      <td>538</td>\n",
       "      <td>518</td>\n",
       "      <td>736</td>\n",
       "      <td>2</td>\n",
       "      <td>2012</td>\n",
       "      <td>124</td>\n",
       "      <td>485820</td>\n",
       "      <td>126.460000</td>\n",
       "      <td>65.0</td>\n",
       "    </tr>\n",
       "    <tr>\n",
       "      <th>2</th>\n",
       "      <td>655</td>\n",
       "      <td>195</td>\n",
       "      <td>880</td>\n",
       "      <td>391</td>\n",
       "      <td>418</td>\n",
       "      <td>3</td>\n",
       "      <td>2016</td>\n",
       "      <td>117</td>\n",
       "      <td>157606</td>\n",
       "      <td>138.120000</td>\n",
       "      <td>62.0</td>\n",
       "    </tr>\n",
       "    <tr>\n",
       "      <th>3</th>\n",
       "      <td>635</td>\n",
       "      <td>92</td>\n",
       "      <td>613</td>\n",
       "      <td>105</td>\n",
       "      <td>658</td>\n",
       "      <td>4</td>\n",
       "      <td>2016</td>\n",
       "      <td>108</td>\n",
       "      <td>60545</td>\n",
       "      <td>270.320000</td>\n",
       "      <td>59.0</td>\n",
       "    </tr>\n",
       "    <tr>\n",
       "      <th>4</th>\n",
       "      <td>673</td>\n",
       "      <td>7</td>\n",
       "      <td>220</td>\n",
       "      <td>136</td>\n",
       "      <td>971</td>\n",
       "      <td>5</td>\n",
       "      <td>2016</td>\n",
       "      <td>123</td>\n",
       "      <td>393727</td>\n",
       "      <td>325.020000</td>\n",
       "      <td>40.0</td>\n",
       "    </tr>\n",
       "    <tr>\n",
       "      <th>...</th>\n",
       "      <td>...</td>\n",
       "      <td>...</td>\n",
       "      <td>...</td>\n",
       "      <td>...</td>\n",
       "      <td>...</td>\n",
       "      <td>...</td>\n",
       "      <td>...</td>\n",
       "      <td>...</td>\n",
       "      <td>...</td>\n",
       "      <td>...</td>\n",
       "      <td>...</td>\n",
       "    </tr>\n",
       "    <tr>\n",
       "      <th>995</th>\n",
       "      <td>612</td>\n",
       "      <td>144</td>\n",
       "      <td>273</td>\n",
       "      <td>69</td>\n",
       "      <td>160</td>\n",
       "      <td>996</td>\n",
       "      <td>2015</td>\n",
       "      <td>111</td>\n",
       "      <td>27585</td>\n",
       "      <td>82.956376</td>\n",
       "      <td>45.0</td>\n",
       "    </tr>\n",
       "    <tr>\n",
       "      <th>996</th>\n",
       "      <td>316</td>\n",
       "      <td>190</td>\n",
       "      <td>874</td>\n",
       "      <td>176</td>\n",
       "      <td>574</td>\n",
       "      <td>997</td>\n",
       "      <td>2007</td>\n",
       "      <td>94</td>\n",
       "      <td>73152</td>\n",
       "      <td>17.540000</td>\n",
       "      <td>46.0</td>\n",
       "    </tr>\n",
       "    <tr>\n",
       "      <th>997</th>\n",
       "      <td>668</td>\n",
       "      <td>170</td>\n",
       "      <td>742</td>\n",
       "      <td>324</td>\n",
       "      <td>794</td>\n",
       "      <td>998</td>\n",
       "      <td>2008</td>\n",
       "      <td>98</td>\n",
       "      <td>70699</td>\n",
       "      <td>58.010000</td>\n",
       "      <td>50.0</td>\n",
       "    </tr>\n",
       "    <tr>\n",
       "      <th>998</th>\n",
       "      <td>611</td>\n",
       "      <td>61</td>\n",
       "      <td>186</td>\n",
       "      <td>549</td>\n",
       "      <td>12</td>\n",
       "      <td>999</td>\n",
       "      <td>2014</td>\n",
       "      <td>93</td>\n",
       "      <td>4881</td>\n",
       "      <td>82.956376</td>\n",
       "      <td>22.0</td>\n",
       "    </tr>\n",
       "    <tr>\n",
       "      <th>999</th>\n",
       "      <td>504</td>\n",
       "      <td>121</td>\n",
       "      <td>249</td>\n",
       "      <td>59</td>\n",
       "      <td>550</td>\n",
       "      <td>1000</td>\n",
       "      <td>2016</td>\n",
       "      <td>87</td>\n",
       "      <td>12435</td>\n",
       "      <td>19.640000</td>\n",
       "      <td>11.0</td>\n",
       "    </tr>\n",
       "  </tbody>\n",
       "</table>\n",
       "<p>1000 rows × 11 columns</p>\n",
       "</div>"
      ],
      "text/plain": [
       "     Title  Genre  Description  Director  Actors  Rank  Year  \\\n",
       "0      287     11          110       265     184     1  2014   \n",
       "1      568     85          538       518     736     2  2012   \n",
       "2      655    195          880       391     418     3  2016   \n",
       "3      635     92          613       105     658     4  2016   \n",
       "4      673      7          220       136     971     5  2016   \n",
       "..     ...    ...          ...       ...     ...   ...   ...   \n",
       "995    612    144          273        69     160   996  2015   \n",
       "996    316    190          874       176     574   997  2007   \n",
       "997    668    170          742       324     794   998  2008   \n",
       "998    611     61          186       549      12   999  2014   \n",
       "999    504    121          249        59     550  1000  2016   \n",
       "\n",
       "     Runtime (Minutes)   Votes  Revenue (Millions)  Metascore  \n",
       "0                  121  757074          333.130000       76.0  \n",
       "1                  124  485820          126.460000       65.0  \n",
       "2                  117  157606          138.120000       62.0  \n",
       "3                  108   60545          270.320000       59.0  \n",
       "4                  123  393727          325.020000       40.0  \n",
       "..                 ...     ...                 ...        ...  \n",
       "995                111   27585           82.956376       45.0  \n",
       "996                 94   73152           17.540000       46.0  \n",
       "997                 98   70699           58.010000       50.0  \n",
       "998                 93    4881           82.956376       22.0  \n",
       "999                 87   12435           19.640000       11.0  \n",
       "\n",
       "[1000 rows x 11 columns]"
      ]
     },
     "execution_count": 38,
     "metadata": {},
     "output_type": "execute_result"
    }
   ],
   "source": [
    "X"
   ]
  },
  {
   "cell_type": "code",
   "execution_count": 39,
   "id": "dcca3c84",
   "metadata": {},
   "outputs": [
    {
     "data": {
      "text/plain": [
       "array([[-7.36132133e-01, -1.45927783e+00, -1.34926825e+00, ...,\n",
       "         3.11268996e+00,  2.59613630e+00,  1.02336136e+00],\n",
       "       [ 2.38229746e-01, -2.58279549e-01,  1.33367979e-01, ...,\n",
       "         1.67495992e+00,  4.51451817e-01,  3.61768457e-01],\n",
       "       [ 5.39900505e-01,  1.52698816e+00,  1.31809132e+00, ...,\n",
       "        -6.46757230e-02,  5.72451581e-01,  1.81334029e-01],\n",
       "       ...,\n",
       "       [ 5.84977745e-01,  1.12124550e+00,  8.40045062e-01, ...,\n",
       "        -5.25309685e-01, -2.58876982e-01, -5.40403681e-01],\n",
       "       [ 3.87331385e-01, -6.47792505e-01, -1.08599640e+00, ...,\n",
       "        -8.74165428e-01, -1.47470845e-16, -2.22445834e+00],\n",
       "       [ 1.63110259e-02,  3.25989884e-01, -8.67757888e-01, ...,\n",
       "        -8.34126893e-01, -6.57055448e-01, -2.88605124e+00]])"
      ]
     },
     "execution_count": 39,
     "metadata": {},
     "output_type": "execute_result"
    }
   ],
   "source": [
    "#Apply standard scaler on Input column X\n",
    "\n",
    "from sklearn.preprocessing import StandardScaler\n",
    "\n",
    "#create object of standardscaler class\n",
    "\n",
    "ss=StandardScaler()\n",
    "X=ss.fit_transform(X)#convert into numpy 2d array\n",
    "X\n"
   ]
  },
  {
   "cell_type": "code",
   "execution_count": 40,
   "id": "857bcc67",
   "metadata": {},
   "outputs": [],
   "source": [
    "#2nd method for standard scaler in dataset\n",
    "\n",
    "X=df_new.drop('Rating',axis=1)\n",
    "columns=X.columns\n",
    "for col in columns:\n",
    "    df_new[col]=ss.fit_transform(df_new[[col]])"
   ]
  },
  {
   "cell_type": "code",
   "execution_count": 41,
   "id": "6665ea25",
   "metadata": {},
   "outputs": [
    {
     "data": {
      "text/html": [
       "<div>\n",
       "<style scoped>\n",
       "    .dataframe tbody tr th:only-of-type {\n",
       "        vertical-align: middle;\n",
       "    }\n",
       "\n",
       "    .dataframe tbody tr th {\n",
       "        vertical-align: top;\n",
       "    }\n",
       "\n",
       "    .dataframe thead th {\n",
       "        text-align: right;\n",
       "    }\n",
       "</style>\n",
       "<table border=\"1\" class=\"dataframe\">\n",
       "  <thead>\n",
       "    <tr style=\"text-align: right;\">\n",
       "      <th></th>\n",
       "      <th>Title</th>\n",
       "      <th>Genre</th>\n",
       "      <th>Description</th>\n",
       "      <th>Director</th>\n",
       "      <th>Actors</th>\n",
       "      <th>Rank</th>\n",
       "      <th>Year</th>\n",
       "      <th>Runtime (Minutes)</th>\n",
       "      <th>Rating</th>\n",
       "      <th>Votes</th>\n",
       "      <th>Revenue (Millions)</th>\n",
       "      <th>Metascore</th>\n",
       "    </tr>\n",
       "  </thead>\n",
       "  <tbody>\n",
       "    <tr>\n",
       "      <th>0</th>\n",
       "      <td>-0.736132</td>\n",
       "      <td>-1.459278</td>\n",
       "      <td>-1.349268</td>\n",
       "      <td>-0.335620</td>\n",
       "      <td>-1.090743</td>\n",
       "      <td>-1.730320</td>\n",
       "      <td>0.379795</td>\n",
       "      <td>0.416350</td>\n",
       "      <td>8.1</td>\n",
       "      <td>3.112690</td>\n",
       "      <td>2.596136</td>\n",
       "      <td>1.023361</td>\n",
       "    </tr>\n",
       "    <tr>\n",
       "      <th>1</th>\n",
       "      <td>0.238230</td>\n",
       "      <td>-0.258280</td>\n",
       "      <td>0.133368</td>\n",
       "      <td>1.027352</td>\n",
       "      <td>0.830272</td>\n",
       "      <td>-1.726856</td>\n",
       "      <td>-0.244355</td>\n",
       "      <td>0.575911</td>\n",
       "      <td>7.0</td>\n",
       "      <td>1.674960</td>\n",
       "      <td>0.451452</td>\n",
       "      <td>0.361768</td>\n",
       "    </tr>\n",
       "    <tr>\n",
       "      <th>2</th>\n",
       "      <td>0.539901</td>\n",
       "      <td>1.526988</td>\n",
       "      <td>1.318091</td>\n",
       "      <td>0.343173</td>\n",
       "      <td>-0.276400</td>\n",
       "      <td>-1.723391</td>\n",
       "      <td>1.003945</td>\n",
       "      <td>0.203601</td>\n",
       "      <td>7.3</td>\n",
       "      <td>-0.064676</td>\n",
       "      <td>0.572452</td>\n",
       "      <td>0.181334</td>\n",
       "    </tr>\n",
       "    <tr>\n",
       "      <th>3</th>\n",
       "      <td>0.470551</td>\n",
       "      <td>-0.144672</td>\n",
       "      <td>0.393176</td>\n",
       "      <td>-1.197578</td>\n",
       "      <td>0.558824</td>\n",
       "      <td>-1.719927</td>\n",
       "      <td>1.003945</td>\n",
       "      <td>-0.275084</td>\n",
       "      <td>7.2</td>\n",
       "      <td>-0.579129</td>\n",
       "      <td>1.944336</td>\n",
       "      <td>0.000900</td>\n",
       "    </tr>\n",
       "    <tr>\n",
       "      <th>4</th>\n",
       "      <td>0.602315</td>\n",
       "      <td>-1.524197</td>\n",
       "      <td>-0.968217</td>\n",
       "      <td>-1.030574</td>\n",
       "      <td>1.648095</td>\n",
       "      <td>-1.716463</td>\n",
       "      <td>1.003945</td>\n",
       "      <td>0.522724</td>\n",
       "      <td>6.2</td>\n",
       "      <td>1.186839</td>\n",
       "      <td>2.511976</td>\n",
       "      <td>-1.141852</td>\n",
       "    </tr>\n",
       "  </tbody>\n",
       "</table>\n",
       "</div>"
      ],
      "text/plain": [
       "      Title     Genre  Description  Director    Actors      Rank      Year  \\\n",
       "0 -0.736132 -1.459278    -1.349268 -0.335620 -1.090743 -1.730320  0.379795   \n",
       "1  0.238230 -0.258280     0.133368  1.027352  0.830272 -1.726856 -0.244355   \n",
       "2  0.539901  1.526988     1.318091  0.343173 -0.276400 -1.723391  1.003945   \n",
       "3  0.470551 -0.144672     0.393176 -1.197578  0.558824 -1.719927  1.003945   \n",
       "4  0.602315 -1.524197    -0.968217 -1.030574  1.648095 -1.716463  1.003945   \n",
       "\n",
       "   Runtime (Minutes)  Rating     Votes  Revenue (Millions)  Metascore  \n",
       "0           0.416350     8.1  3.112690            2.596136   1.023361  \n",
       "1           0.575911     7.0  1.674960            0.451452   0.361768  \n",
       "2           0.203601     7.3 -0.064676            0.572452   0.181334  \n",
       "3          -0.275084     7.2 -0.579129            1.944336   0.000900  \n",
       "4           0.522724     6.2  1.186839            2.511976  -1.141852  "
      ]
     },
     "execution_count": 41,
     "metadata": {},
     "output_type": "execute_result"
    }
   ],
   "source": [
    "df_new.head()"
   ]
  },
  {
   "cell_type": "code",
   "execution_count": 42,
   "id": "d7d13527",
   "metadata": {},
   "outputs": [
    {
     "data": {
      "text/plain": [
       "array([[-7.36132133e-01, -1.45927783e+00, -1.34926825e+00, ...,\n",
       "         3.11268996e+00,  2.59613630e+00,  1.02336136e+00],\n",
       "       [ 2.38229746e-01, -2.58279549e-01,  1.33367979e-01, ...,\n",
       "         1.67495992e+00,  4.51451817e-01,  3.61768457e-01],\n",
       "       [ 5.39900505e-01,  1.52698816e+00,  1.31809132e+00, ...,\n",
       "        -6.46757230e-02,  5.72451581e-01,  1.81334029e-01],\n",
       "       ...,\n",
       "       [ 5.84977745e-01,  1.12124550e+00,  8.40045062e-01, ...,\n",
       "        -5.25309685e-01, -2.58876982e-01, -5.40403681e-01],\n",
       "       [ 3.87331385e-01, -6.47792505e-01, -1.08599640e+00, ...,\n",
       "        -8.74165428e-01, -1.47470845e-16, -2.22445834e+00],\n",
       "       [ 1.63110259e-02,  3.25989884e-01, -8.67757888e-01, ...,\n",
       "        -8.34126893e-01, -6.57055448e-01, -2.88605124e+00]])"
      ]
     },
     "execution_count": 42,
     "metadata": {},
     "output_type": "execute_result"
    }
   ],
   "source": [
    "df_new.values"
   ]
  },
  {
   "cell_type": "code",
   "execution_count": 43,
   "id": "c44e842c",
   "metadata": {},
   "outputs": [],
   "source": [
    "#    *****END*****"
   ]
  }
 ],
 "metadata": {
  "kernelspec": {
   "display_name": "Python 3 (ipykernel)",
   "language": "python",
   "name": "python3"
  },
  "language_info": {
   "codemirror_mode": {
    "name": "ipython",
    "version": 3
   },
   "file_extension": ".py",
   "mimetype": "text/x-python",
   "name": "python",
   "nbconvert_exporter": "python",
   "pygments_lexer": "ipython3",
   "version": "3.9.12"
  }
 },
 "nbformat": 4,
 "nbformat_minor": 5
}
